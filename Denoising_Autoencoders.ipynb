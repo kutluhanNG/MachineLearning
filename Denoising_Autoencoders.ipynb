{
  "nbformat": 4,
  "nbformat_minor": 0,
  "metadata": {
    "colab": {
      "provenance": [],
      "authorship_tag": "ABX9TyNv2jRq1jyXNx/jwpnTrtUb",
      "include_colab_link": true
    },
    "kernelspec": {
      "name": "python3",
      "display_name": "Python 3"
    },
    "language_info": {
      "name": "python"
    }
  },
  "cells": [
    {
      "cell_type": "markdown",
      "metadata": {
        "id": "view-in-github",
        "colab_type": "text"
      },
      "source": [
        "<a href=\"https://colab.research.google.com/github/kutluhanNG/MachineLearning/blob/main/Denoising_Autoencoders.ipynb\" target=\"_parent\"><img src=\"https://colab.research.google.com/assets/colab-badge.svg\" alt=\"Open In Colab\"/></a>"
      ]
    },
    {
      "cell_type": "markdown",
      "source": [
        "**Denoising Autoencoders**\n",
        "\n",
        "1) Simply put, add noise to the input (we are going to discuss how shortly) and make Autoencoder try to recover the original inputs.\n",
        "\n",
        "2) This noise can be pure Gaussian Noise added to inputs or it can be randomly switched-off inputs, just like in dropout.\n",
        "\n",
        "3) The implementation is straightforward: it is a regular stacked autoencoder with an additional dropout layer applied to the encoder's inputs or you can use a GaussianNoise layer instead."
      ],
      "metadata": {
        "id": "9fht5g7OsaM4"
      }
    },
    {
      "cell_type": "code",
      "execution_count": null,
      "metadata": {
        "id": "O7qL5j1FpIcM"
      },
      "outputs": [],
      "source": [
        "import tensorflow as tf\n",
        "dropout_encoder = tf.keras.Sequential([\n",
        "    tf.keras.layers.Dropout(0.5),\n",
        "    tf.keras.layers.Dense(100, activation=\"relu\"),\n",
        "    tf.keras.layers.Dense(30, activation=\"relu\")\n",
        "])\n",
        "\n",
        "dropout_decoder = tf.keras.Sequential([\n",
        "    tf.keras.layers.Dense(100, activation=\"relu\"),\n",
        "    tf.keras.layers.Dense(28*28),\n",
        "    tf.keras.layers.Reshape([28,28])\n",
        "])\n",
        "\n",
        "dropout_ae = tf.keras.Sequential([dropout_encoder, dropout_decoder])"
      ]
    }
  ]
}