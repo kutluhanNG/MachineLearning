{
  "nbformat": 4,
  "nbformat_minor": 0,
  "metadata": {
    "colab": {
      "provenance": [],
      "machine_shape": "hm",
      "authorship_tag": "ABX9TyOmhDcMpe4BtHOkeJ/6hiGM",
      "include_colab_link": true
    },
    "kernelspec": {
      "name": "python3",
      "display_name": "Python 3"
    },
    "language_info": {
      "name": "python"
    }
  },
  "cells": [
    {
      "cell_type": "markdown",
      "metadata": {
        "id": "view-in-github",
        "colab_type": "text"
      },
      "source": [
        "<a href=\"https://colab.research.google.com/github/kutluhanNG/MachineLearning/blob/main/Deep_Convolutional_GANs.ipynb\" target=\"_parent\"><img src=\"https://colab.research.google.com/assets/colab-badge.svg\" alt=\"Open In Colab\"/></a>"
      ]
    },
    {
      "cell_type": "markdown",
      "source": [
        "***Here are the main guidelines for building stable convolutional GANs:***\n",
        "\n",
        "* Replace any pooling layers with strided convolutions in the discriminator and transposed convolutions in the generator.\n",
        "* Use batch normalization in both the generator and the discriminator, except in generator's output layer and the discriminator's input layer.\n",
        "* Remove fully connected hidden layers for deeper architectures.\n",
        "* Use ReLu activation in the generator for all layers except the output layer, which should use tanh.\n",
        "* Use leaky ReLu activation in the discriminator for all layers.\n",
        "\n",
        "\n"
      ],
      "metadata": {
        "id": "A24UQyTGVAFU"
      }
    },
    {
      "cell_type": "code",
      "execution_count": null,
      "metadata": {
        "id": "yocRwOV_N27I"
      },
      "outputs": [],
      "source": [
        "import tensorflow as tf\n",
        "\n",
        "codings_size = 100\n",
        "\n",
        "generator = tf.keras.Sequential([\n",
        "    tf.keras.layers.Dense(7 * 7 * 128),\n",
        "    tf.keras.layers.Reshape([7, 7, 128]),\n",
        "    tf.keras.layers.BatchNormalization(),\n",
        "    tf.keras.layers.Conv2DTranspose(64, kernel_size=5, strides=2, padding=\"same\", activation=\"relu\"),\n",
        "    tf.keras.layers.BatchNormalization(),\n",
        "    tf.keras.layers.Conv2DTranspose(1, kernel_size=5, strides=2, padding=\"same\", activation=\"tanh\")\n",
        "])\n",
        "\n",
        "discriminator = tf.keras.Sequential([\n",
        "    tf.keras.layers.Conv2D(64, kernel_size=5, strides=2, padding=\"same\", activation=tf.keras.layers.LeakyRelu(0.2)),\n",
        "    tf.keras.layers.Dropout(0.4),\n",
        "    tf.keras.layers.Conv2D(128, kernel_size=5, strides=2, padding=\"same\", activation=tf.keras.layers.LeakyRelu(0.2)),\n",
        "    tf.keras.layers.Dropout(0.4),\n",
        "    tf.keras.layers.Flatten(),\n",
        "    tf.keras.layers.Dense(1, activation=\"sigmoid\")\n",
        "])\n",
        "\n",
        "gan = tf.keras.Sequential([generator, discriminator])"
      ]
    }
  ]
}