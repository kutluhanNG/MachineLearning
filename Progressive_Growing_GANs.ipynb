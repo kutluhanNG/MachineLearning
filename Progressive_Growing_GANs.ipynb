{
  "nbformat": 4,
  "nbformat_minor": 0,
  "metadata": {
    "colab": {
      "provenance": [],
      "machine_shape": "hm",
      "gpuType": "A100",
      "authorship_tag": "ABX9TyPvjZKcqjP89PRTasLmPsOz",
      "include_colab_link": true
    },
    "kernelspec": {
      "name": "python3",
      "display_name": "Python 3"
    },
    "language_info": {
      "name": "python"
    },
    "accelerator": "GPU"
  },
  "cells": [
    {
      "cell_type": "markdown",
      "metadata": {
        "id": "view-in-github",
        "colab_type": "text"
      },
      "source": [
        "<a href=\"https://colab.research.google.com/github/kutluhanNG/MachineLearning/blob/main/Progressive_Growing_GANs.ipynb\" target=\"_parent\"><img src=\"https://colab.research.google.com/assets/colab-badge.svg\" alt=\"Open In Colab\"/></a>"
      ]
    },
    {
      "cell_type": "markdown",
      "source": [
        "**Utility Layers:**\n",
        "* PixelNormalization scales features at each pixel to unit norm.\n",
        "* MinibatchStdDev computes a simple statistic over the batch and appends it as an extra feature map.\n",
        "* upsample and downsample functions change the spatial resolution."
      ],
      "metadata": {
        "id": "qhbsx6FbLlBu"
      }
    },
    {
      "cell_type": "code",
      "execution_count": 1,
      "metadata": {
        "id": "TYmVOVJhALpz"
      },
      "outputs": [],
      "source": [
        "import tensorflow as tf\n",
        "from tensorflow.keras import layers\n",
        "\n",
        "# ---------------------------\n",
        "# Utility Layers and Functions\n",
        "# ---------------------------\n",
        "\n",
        "class PixelNormalization(layers.Layer):\n",
        "    \"\"\"\n",
        "    Normalizes each pixel vector (across channels) to unit length.\n",
        "    \"\"\"\n",
        "    def __init__(self, epsilon=1e-8, **kwargs):\n",
        "        super(PixelNormalization, self).__init__(**kwargs)\n",
        "        self.epsilon = epsilon\n",
        "\n",
        "    def call(self, inputs):\n",
        "        return inputs / tf.sqrt(tf.reduce_mean(tf.square(inputs), axis=-1, keepdims=True) + self.epsilon)\n",
        "\n",
        "\n",
        "class MinibatchStdDev(layers.Layer):\n",
        "    \"\"\"\n",
        "    Adds a minibatch standard deviation feature map.\n",
        "    \"\"\"\n",
        "    def call(self, inputs):\n",
        "        # Compute standard deviation over the batch\n",
        "        mean = tf.reduce_mean(inputs, axis=0, keepdims=True)\n",
        "        std = tf.sqrt(tf.reduce_mean(tf.square(inputs - mean), axis=0, keepdims=True) + 1e-8)\n",
        "        mean_std = tf.reduce_mean(std, keepdims=True)\n",
        "        shape = tf.shape(inputs)\n",
        "\n",
        "        # Tile to have one extra channel\n",
        "        output = tf.tile(mean_std, [shape[0], shape[1], shape[2], 1])\n",
        "        return tf.concat([inputs, output], axis=-1)\n",
        "\n",
        "\n",
        "def upsample(x):\n",
        "    \"\"\"Upsamples feature maps by a factor of 2 using nearest neighbor.\"\"\"\n",
        "    new_size = (x.shape[1] * 2, x.shape[2] * 2)\n",
        "    return tf.image.resize(x, new_size, method='nearest')\n",
        "\n",
        "\n",
        "def downsample(x):\n",
        "    \"\"\"Downsamples feature maps by a factor of 2 using average pooling.\"\"\"\n",
        "    return tf.nn.avg_pool2d(x, ksize=2, strides=2, padding='SAME')"
      ]
    },
    {
      "cell_type": "markdown",
      "source": [
        "**Generator:**\n",
        "* The generator starts by mapping a latent vector to a 4×4 feature map.\n",
        "* It then passes through a series of blocks; each new block is “faded in” using the parameter alpha so that when transitioning to a higher resolution, the output is a blend of the new (higher‐resolution) branch and the upsampled previous branch.\n",
        "* The final “to_rgb” convolution converts feature maps to a three–channel image."
      ],
      "metadata": {
        "id": "j2qHXSktL3sk"
      }
    },
    {
      "cell_type": "code",
      "source": [
        "# ---------------------------\n",
        "# Progressive Generator\n",
        "# ---------------------------\n",
        "\n",
        "class ProgressiveGenerator(tf.keras.Model):\n",
        "    def __init__(self, latent_dim, num_steps=4, **kwargs):\n",
        "        \"\"\"\n",
        "        Args:\n",
        "            latent_dim: Dimension of the latent input vector.\n",
        "            num_steps: Number of progressive steps. Step 0 produces 4×4 images,\n",
        "                       step 1 produces 8×8, step 2 produces 16×16, etc.\n",
        "        \"\"\"\n",
        "        super(ProgressiveGenerator, self).__init__(**kwargs)\n",
        "        self.latent_dim = latent_dim\n",
        "        self.num_steps = num_steps  # e.g. 4 steps: 4x4, 8x8, 16x16, 32x32\n",
        "\n",
        "        # Initial dense layer to project the latent vector to a 4x4 feature map.\n",
        "        self.initial_dense = layers.Dense(4 * 4 * 512, input_shape=(latent_dim,))\n",
        "        self.initial_reshape = layers.Reshape((4, 4, 512))\n",
        "        self.pixel_norm = PixelNormalization()\n",
        "\n",
        "        # Lists to hold the convolutional blocks and corresponding \"to-RGB\" layers.\n",
        "        self.blocks = []    # Each block increases the resolution.\n",
        "        self.to_rgb = []    # Converts feature maps to RGB images.\n",
        "\n",
        "        # --- Block for 4×4 resolution ---\n",
        "        block0 = tf.keras.Sequential([\n",
        "            layers.Conv2D(512, kernel_size=3, padding='same'),\n",
        "            layers.LeakyReLU(0.2),\n",
        "            PixelNormalization()\n",
        "        ])\n",
        "        self.blocks.append(block0)\n",
        "        self.to_rgb.append(layers.Conv2D(3, kernel_size=1, padding='same', activation='tanh'))\n",
        "\n",
        "        # --- Progressive blocks: each block doubles the resolution ---\n",
        "        # You can adjust the filter sizes as desired.\n",
        "        filters = [512, 256, 128, 64]  # For steps 1, 2, 3, … (must be at least num_steps-1 elements)\n",
        "        for i in range(1, self.num_steps):\n",
        "            block = tf.keras.Sequential([\n",
        "                layers.Conv2D(filters[i], kernel_size=3, padding='same'),\n",
        "                layers.LeakyReLU(0.2),\n",
        "                PixelNormalization(),\n",
        "                layers.Conv2D(filters[i], kernel_size=3, padding='same'),\n",
        "                layers.LeakyReLU(0.2),\n",
        "                PixelNormalization()\n",
        "            ])\n",
        "            self.blocks.append(block)\n",
        "            self.to_rgb.append(layers.Conv2D(3, kernel_size=1, padding='same', activation='tanh'))\n",
        "\n",
        "    def call(self, inputs, alpha, step):\n",
        "        \"\"\"\n",
        "        Forward pass.\n",
        "\n",
        "        Args:\n",
        "            inputs: A batch of latent vectors, shape (batch_size, latent_dim).\n",
        "            alpha: Fade-in factor (0.0 to 1.0). When alpha < 1.0, the new block is gradually blended in.\n",
        "            step: Current progressive step (integer). 0 means the base 4×4 resolution.\n",
        "\n",
        "        Returns:\n",
        "            Generated images.\n",
        "        \"\"\"\n",
        "        # Start from the latent vector.\n",
        "        x = self.initial_dense(inputs)\n",
        "        x = self.initial_reshape(x)\n",
        "        x = self.pixel_norm(x)\n",
        "        # Process through the initial block (4×4)\n",
        "        x = self.blocks[0](x)\n",
        "\n",
        "        # If no progression yet, output the 4×4 image.\n",
        "        if step == 0:\n",
        "            rgb = self.to_rgb[0](x)\n",
        "            return rgb\n",
        "\n",
        "        # Process all intermediate blocks before the current (new) one.\n",
        "        for i in range(1, step):\n",
        "            x = upsample(x)\n",
        "            x = self.blocks[i](x)\n",
        "\n",
        "        # For the current step: upsample then use two branches for fade-in.\n",
        "        x_up = upsample(x)  # Upsample to the new resolution.\n",
        "        # New branch: apply the new block.\n",
        "        x_new = self.blocks[step](x_up)\n",
        "        rgb_new = self.to_rgb[step](x_new)\n",
        "        # Old branch: use the previous block’s to-RGB (applied to the upsampled features).\n",
        "        rgb_old = self.to_rgb[step - 1](x_up)\n",
        "        # Blend the two outputs.\n",
        "        rgb = alpha * rgb_new + (1.0 - alpha) * rgb_old\n",
        "        return rgb"
      ],
      "metadata": {
        "id": "PUYXAOtQL4GA"
      },
      "execution_count": 2,
      "outputs": []
    },
    {
      "cell_type": "markdown",
      "source": [
        "**Discriminator:**\n",
        "* The discriminator works in the reverse order. It converts an input image (at the current resolution) to features using a “from_rgb” layer.\n",
        "* When a new block is added, it blends the features from the current resolution with features from a downsampled (previous resolution) branch.\n",
        "* Finally, several convolutional blocks and a final dense layer produce a real/fake score."
      ],
      "metadata": {
        "id": "p9_-wTdnMILV"
      }
    },
    {
      "cell_type": "code",
      "source": [
        "class ProgressiveDiscriminator(tf.keras.Model):\n",
        "    def __init__(self, num_steps=4, **kwargs):\n",
        "        super(ProgressiveDiscriminator, self).__init__(**kwargs)\n",
        "        self.num_steps = num_steps\n",
        "\n",
        "        # Use a fixed number of channels for all from-RGB layers for blending\n",
        "        from_rgb_filters = 512\n",
        "        self.from_rgb = []\n",
        "        for i in range(self.num_steps):\n",
        "            self.from_rgb.append(tf.keras.Sequential([\n",
        "                layers.Conv2D(from_rgb_filters, kernel_size=1, padding='same'),\n",
        "                layers.LeakyReLU(0.2)\n",
        "            ]))\n",
        "\n",
        "        # Build convolutional blocks (you can still use a descending filter schedule here)\n",
        "        filters = [512, 512, 256, 128, 64]  # Adjust as needed\n",
        "        self.blocks = []\n",
        "        for i in range(self.num_steps - 1, 0, -1):\n",
        "            block = tf.keras.Sequential([\n",
        "                layers.Conv2D(filters[i], kernel_size=3, padding='same'),\n",
        "                layers.LeakyReLU(0.2),\n",
        "                layers.Conv2D(filters[i - 1], kernel_size=3, padding='same'),\n",
        "                layers.LeakyReLU(0.2)\n",
        "            ])\n",
        "            self.blocks.append(block)\n",
        "\n",
        "        self.final_block = tf.keras.Sequential([\n",
        "            MinibatchStdDev(),\n",
        "            layers.Conv2D(512, kernel_size=3, padding='same'),\n",
        "            layers.LeakyReLU(0.2),\n",
        "            layers.Flatten(),\n",
        "            layers.Dense(1)\n",
        "        ])\n",
        "\n",
        "    def call(self, inputs, alpha, step):\n",
        "        if step == 0:\n",
        "            x = self.from_rgb[0](inputs)\n",
        "            x = self.final_block(x)\n",
        "            return x\n",
        "\n",
        "        # New branch: process the current resolution.\n",
        "        x_new = self.from_rgb[step](inputs)\n",
        "        # Downsample the new branch so that its spatial size matches the old branch.\n",
        "        x_new = downsample(x_new)\n",
        "\n",
        "        # Old branch: downsample the input first, then process with the previous from-RGB layer.\n",
        "        x_old = self.from_rgb[step - 1](downsample(inputs))\n",
        "\n",
        "        # Now both x_new and x_old should have the same shape: (batch, new_H, new_W, 512)\n",
        "        x = alpha * x_new + (1.0 - alpha) * x_old\n",
        "\n",
        "        # Process the blended features through the progressive blocks.\n",
        "        start = self.num_steps - 1 - step\n",
        "        for block in self.blocks[start:]:\n",
        "            x = block(x)\n",
        "            x = downsample(x)\n",
        "\n",
        "        x = self.final_block(x)\n",
        "        return x\n"
      ],
      "metadata": {
        "id": "-jfaFmoOMQ4g"
      },
      "execution_count": 9,
      "outputs": []
    },
    {
      "cell_type": "markdown",
      "source": [
        "**Example Usage:**\n",
        "* In the main block, a generator and discriminator are instantiated.\n",
        "* A batch of random latent vectors is generated and passed through the generator (using a specified alpha and step).\n",
        "* The generated images are then passed through the discriminator."
      ],
      "metadata": {
        "id": "lks2szLSMWxa"
      }
    },
    {
      "cell_type": "code",
      "source": [
        "# ---------------------------\n",
        "# Example Usage\n",
        "# ---------------------------\n",
        "\n",
        "if __name__ == \"__main__\":\n",
        "    # Define latent dimension and number of progression steps.\n",
        "    latent_dim = 128\n",
        "    num_steps = 4  # For example, step 0: 4×4, step 1: 8×8, step 2: 16×16, step 3: 32×32\n",
        "\n",
        "    # Instantiate the generator and discriminator.\n",
        "    generator = ProgressiveGenerator(latent_dim, num_steps)\n",
        "    discriminator = ProgressiveDiscriminator(num_steps)\n",
        "\n",
        "    # Create a random batch of latent vectors.\n",
        "    z = tf.random.normal((4, latent_dim))\n",
        "\n",
        "    # Set the fade-in factor (alpha) and the current progressive step.\n",
        "    alpha = 0.5  # During fade-in, alpha moves gradually from 0 to 1.\n",
        "    step = 2     # For example, step 2 corresponds to a 16×16 resolution output.\n",
        "\n",
        "    # Generate images.\n",
        "    fake_images = generator(z, alpha=alpha, step=step)\n",
        "    print(\"Generated images shape:\", fake_images.shape)\n",
        "\n",
        "    # Get the discriminator's output on the generated images.\n",
        "    d_out = discriminator(fake_images, alpha=alpha, step=step)\n",
        "    print(\"Discriminator output shape:\", d_out.shape)\n"
      ],
      "metadata": {
        "colab": {
          "base_uri": "https://localhost:8080/"
        },
        "id": "AEGSDiV_M8W2",
        "outputId": "2d34f675-5c3f-475e-b97c-318e5161ef1e"
      },
      "execution_count": 10,
      "outputs": [
        {
          "output_type": "stream",
          "name": "stderr",
          "text": [
            "/usr/local/lib/python3.11/dist-packages/keras/src/layers/layer.py:393: UserWarning: `build()` was called on layer 'progressive_generator_5', however the layer does not have a `build()` method implemented and it looks like it has unbuilt state. This will cause the layer to be marked as built, despite not being actually built, which may cause failures down the line. Make sure to implement a proper `build()` method.\n",
            "  warnings.warn(\n"
          ]
        },
        {
          "output_type": "stream",
          "name": "stdout",
          "text": [
            "Generated images shape: (4, 16, 16, 3)\n"
          ]
        },
        {
          "output_type": "stream",
          "name": "stderr",
          "text": [
            "/usr/local/lib/python3.11/dist-packages/keras/src/layers/layer.py:393: UserWarning: `build()` was called on layer 'progressive_discriminator_5', however the layer does not have a `build()` method implemented and it looks like it has unbuilt state. This will cause the layer to be marked as built, despite not being actually built, which may cause failures down the line. Make sure to implement a proper `build()` method.\n",
            "  warnings.warn(\n"
          ]
        },
        {
          "output_type": "stream",
          "name": "stdout",
          "text": [
            "Discriminator output shape: (4, 1)\n"
          ]
        }
      ]
    },
    {
      "cell_type": "code",
      "source": [
        "import matplotlib.pyplot as plt\n",
        "import numpy as np\n",
        "\n",
        "# Assuming fake_images is the output from the generator.\n",
        "# The generated images are likely in the range [-1, 1] due to the tanh activation.\n",
        "# Rescale them to [0, 1] for visualization.\n",
        "def rescale_img(img):\n",
        "    img = (img + 1.0) / 2.0  # Scale from [-1, 1] to [0, 1]\n",
        "    # Clip in case any values fall slightly outside due to numerical issues.\n",
        "    return np.clip(img, 0, 1)\n",
        "\n",
        "# Convert the tensor to a numpy array.\n",
        "fake_images_np = fake_images.numpy()\n",
        "\n",
        "# Plot each image in the batch.\n",
        "batch_size = fake_images_np.shape[0]\n",
        "plt.figure(figsize=(batch_size * 3, 3))\n",
        "for i in range(batch_size):\n",
        "    plt.subplot(1, batch_size, i + 1)\n",
        "    # Rescale the image for display.\n",
        "    img = rescale_img(fake_images_np[i])\n",
        "    plt.imshow(img)\n",
        "    plt.axis('off')\n",
        "plt.show()\n"
      ],
      "metadata": {
        "colab": {
          "base_uri": "https://localhost:8080/",
          "height": 239
        },
        "id": "mvJeZoUDNWsx",
        "outputId": "e652aadc-4bd9-4f89-888c-1da7dcb54904"
      },
      "execution_count": 11,
      "outputs": [
        {
          "output_type": "display_data",
          "data": {
            "text/plain": [
              "<Figure size 1200x300 with 4 Axes>"
            ],
            "image/png": "[encoded data removed]"
          },
          "metadata": {}
        }
      ]
    },
    {
      "cell_type": "code",
      "source": [],
      "metadata": {
        "id": "sciwy0b4PKDj"
      },
      "execution_count": null,
      "outputs": []
    }
  ]
}